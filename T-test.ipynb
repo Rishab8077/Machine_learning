{
 "cells": [
  {
   "cell_type": "markdown",
   "id": "13eebfef",
   "metadata": {},
   "source": [
    "### we are trying t-test to validate that is there any difference between sampled mean and population mean"
   ]
  },
  {
   "cell_type": "markdown",
   "id": "7a928efe",
   "metadata": {},
   "source": [
    "# One sampled"
   ]
  },
  {
   "cell_type": "code",
   "execution_count": 1,
   "id": "4a8c5653",
   "metadata": {},
   "outputs": [],
   "source": [
    "import numpy as np"
   ]
  },
  {
   "cell_type": "code",
   "execution_count": 2,
   "id": "700b0752",
   "metadata": {},
   "outputs": [],
   "source": [
    "age=[10,20,30,35,44,32,31,33,34,35,36,33,32,65,22,33,34,33,37,36,35,36,76,33]"
   ]
  },
  {
   "cell_type": "code",
   "execution_count": 3,
   "id": "d8e208e3",
   "metadata": {},
   "outputs": [
    {
     "data": {
      "text/plain": [
       "35.208333333333336"
      ]
     },
     "execution_count": 3,
     "metadata": {},
     "output_type": "execute_result"
    }
   ],
   "source": [
    "np.mean(age)"
   ]
  },
  {
   "cell_type": "code",
   "execution_count": 4,
   "id": "ab070354",
   "metadata": {},
   "outputs": [
    {
     "data": {
      "text/plain": [
       "24"
      ]
     },
     "execution_count": 4,
     "metadata": {},
     "output_type": "execute_result"
    }
   ],
   "source": [
    "len(age)"
   ]
  },
  {
   "cell_type": "code",
   "execution_count": 5,
   "id": "49d4660c",
   "metadata": {},
   "outputs": [],
   "source": [
    "sample_age=np.random.choice(age,7)"
   ]
  },
  {
   "cell_type": "code",
   "execution_count": 6,
   "id": "4309fbc2",
   "metadata": {},
   "outputs": [
    {
     "data": {
      "text/plain": [
       "array([32, 32, 35, 33, 22, 36, 33])"
      ]
     },
     "execution_count": 6,
     "metadata": {},
     "output_type": "execute_result"
    }
   ],
   "source": [
    "sample_age"
   ]
  },
  {
   "cell_type": "code",
   "execution_count": 8,
   "id": "0ec9246b",
   "metadata": {},
   "outputs": [],
   "source": [
    "from scipy.stats import ttest_1samp"
   ]
  },
  {
   "cell_type": "code",
   "execution_count": 9,
   "id": "6c3e05d6",
   "metadata": {},
   "outputs": [],
   "source": [
    "ttest,p_value=ttest_1samp(sample_age,35)"
   ]
  },
  {
   "cell_type": "code",
   "execution_count": 10,
   "id": "a6641cb8",
   "metadata": {},
   "outputs": [
    {
     "name": "stdout",
     "output_type": "stream",
     "text": [
      "0.12054370589939789\n"
     ]
    }
   ],
   "source": [
    "print(p_value)"
   ]
  },
  {
   "cell_type": "code",
   "execution_count": 11,
   "id": "5be143ab",
   "metadata": {},
   "outputs": [],
   "source": [
    "#if p_value is less than significant value < 0.05 then null hypothesis fails i.e there is a difference"
   ]
  },
  {
   "cell_type": "code",
   "execution_count": 16,
   "id": "7606356c",
   "metadata": {},
   "outputs": [],
   "source": [
    "#2nd example"
   ]
  },
  {
   "cell_type": "code",
   "execution_count": 18,
   "id": "2d21cb8a",
   "metadata": {},
   "outputs": [],
   "source": [
    "import scipy.stats as stats\n",
    "import math\n",
    "np.random.seed(6)\n",
    "school_ages=stats.poisson.rvs(loc=18,mu=35,size=1500)\n",
    "classA_ages=stats.poisson.rvs(loc=18,mu=30,size=60)"
   ]
  },
  {
   "cell_type": "code",
   "execution_count": 24,
   "id": "2e7af1cd",
   "metadata": {},
   "outputs": [],
   "source": [
    "_,p_value=stats.ttest_1samp(a=classA_ages,popmean=school_ages.mean())"
   ]
  },
  {
   "cell_type": "code",
   "execution_count": 25,
   "id": "b665638d",
   "metadata": {},
   "outputs": [
    {
     "data": {
      "text/plain": [
       "1.139027071016194e-13"
      ]
     },
     "execution_count": 25,
     "metadata": {},
     "output_type": "execute_result"
    }
   ],
   "source": [
    "p_value"
   ]
  },
  {
   "cell_type": "code",
   "execution_count": 26,
   "id": "2264c63a",
   "metadata": {},
   "outputs": [],
   "source": [
    "# we were comparing ages of school and classA"
   ]
  },
  {
   "cell_type": "markdown",
   "id": "bfed7698",
   "metadata": {},
   "source": [
    "# Two sampled"
   ]
  },
  {
   "cell_type": "code",
   "execution_count": 30,
   "id": "c0fcad2d",
   "metadata": {},
   "outputs": [
    {
     "data": {
      "text/plain": [
       "50.483333333333334"
      ]
     },
     "execution_count": 30,
     "metadata": {},
     "output_type": "execute_result"
    }
   ],
   "source": [
    "np.random.seed(6)\n",
    "classb_ages=stats.poisson.rvs(loc=18,mu=33,size=60)\n",
    "#this means the age should start from 18 and mean should be 35\n",
    "classb_ages.mean()"
   ]
  },
  {
   "cell_type": "code",
   "execution_count": 31,
   "id": "ac875d95",
   "metadata": {},
   "outputs": [],
   "source": [
    "_,p_value=stats.ttest_ind(a=classA_ages,b=classb_ages,equal_var=False)"
   ]
  },
  {
   "cell_type": "code",
   "execution_count": 32,
   "id": "9e95efee",
   "metadata": {},
   "outputs": [
    {
     "data": {
      "text/plain": [
       "0.0010324920273110058"
      ]
     },
     "execution_count": 32,
     "metadata": {},
     "output_type": "execute_result"
    }
   ],
   "source": [
    "p_value"
   ]
  },
  {
   "cell_type": "code",
   "execution_count": 33,
   "id": "af5b584d",
   "metadata": {},
   "outputs": [],
   "source": [
    "# therefore we reject the null hypothesis"
   ]
  },
  {
   "cell_type": "markdown",
   "id": "000ec149",
   "metadata": {},
   "source": [
    "# Paired T test"
   ]
  },
  {
   "cell_type": "code",
   "execution_count": 42,
   "id": "be2d45ea",
   "metadata": {},
   "outputs": [],
   "source": [
    "w1 = [25,30,40,50,30,40,35,55,65,52,70,63,54,43,45]"
   ]
  },
  {
   "cell_type": "code",
   "execution_count": 44,
   "id": "5bf18157",
   "metadata": {},
   "outputs": [
    {
     "name": "stdout",
     "output_type": "stream",
     "text": [
      "[25, 30, 40, 50, 30, 40, 35, 55, 65, 52, 70, 63, 54, 43, 45]\n",
      "[17.74324303 33.20826367 33.82636035 47.69686513 32.08078962 34.76875876\n",
      " 28.77290088 53.1793642  70.60090762 56.2482667  75.75290728 63.67354022\n",
      " 55.19142057 47.10154865 46.59276701]\n"
     ]
    }
   ],
   "source": [
    "w2=w1+ stats.norm.rvs(scale=5,loc=-1.25,size=15)\n",
    "print (w1)\n",
    "print (w2)"
   ]
  },
  {
   "cell_type": "code",
   "execution_count": 45,
   "id": "fda02760",
   "metadata": {},
   "outputs": [],
   "source": [
    "_,p_value=stats.ttest_rel(a=w1,b=w2)"
   ]
  },
  {
   "cell_type": "code",
   "execution_count": 46,
   "id": "b800b617",
   "metadata": {},
   "outputs": [
    {
     "data": {
      "text/plain": [
       "0.974743730549964"
      ]
     },
     "execution_count": 46,
     "metadata": {},
     "output_type": "execute_result"
    }
   ],
   "source": [
    "p_value"
   ]
  },
  {
   "cell_type": "code",
   "execution_count": 47,
   "id": "104d1cf5",
   "metadata": {},
   "outputs": [],
   "source": [
    "# null hypothesis is accepted"
   ]
  },
  {
   "cell_type": "markdown",
   "id": "98b7f887",
   "metadata": {},
   "source": [
    "# Chi square test"
   ]
  },
  {
   "cell_type": "code",
   "execution_count": 49,
   "id": "2c75adc6",
   "metadata": {},
   "outputs": [],
   "source": [
    "import seaborn as sns\n",
    "import pandas as pd"
   ]
  },
  {
   "cell_type": "code",
   "execution_count": 50,
   "id": "8bc165dd",
   "metadata": {},
   "outputs": [],
   "source": [
    "dataset=sns.load_dataset('tips')"
   ]
  },
  {
   "cell_type": "code",
   "execution_count": 51,
   "id": "1fcd5fc5",
   "metadata": {},
   "outputs": [
    {
     "data": {
      "text/html": [
       "<div>\n",
       "<style scoped>\n",
       "    .dataframe tbody tr th:only-of-type {\n",
       "        vertical-align: middle;\n",
       "    }\n",
       "\n",
       "    .dataframe tbody tr th {\n",
       "        vertical-align: top;\n",
       "    }\n",
       "\n",
       "    .dataframe thead th {\n",
       "        text-align: right;\n",
       "    }\n",
       "</style>\n",
       "<table border=\"1\" class=\"dataframe\">\n",
       "  <thead>\n",
       "    <tr style=\"text-align: right;\">\n",
       "      <th></th>\n",
       "      <th>total_bill</th>\n",
       "      <th>tip</th>\n",
       "      <th>sex</th>\n",
       "      <th>smoker</th>\n",
       "      <th>day</th>\n",
       "      <th>time</th>\n",
       "      <th>size</th>\n",
       "    </tr>\n",
       "  </thead>\n",
       "  <tbody>\n",
       "    <tr>\n",
       "      <th>0</th>\n",
       "      <td>16.99</td>\n",
       "      <td>1.01</td>\n",
       "      <td>Female</td>\n",
       "      <td>No</td>\n",
       "      <td>Sun</td>\n",
       "      <td>Dinner</td>\n",
       "      <td>2</td>\n",
       "    </tr>\n",
       "    <tr>\n",
       "      <th>1</th>\n",
       "      <td>10.34</td>\n",
       "      <td>1.66</td>\n",
       "      <td>Male</td>\n",
       "      <td>No</td>\n",
       "      <td>Sun</td>\n",
       "      <td>Dinner</td>\n",
       "      <td>3</td>\n",
       "    </tr>\n",
       "    <tr>\n",
       "      <th>2</th>\n",
       "      <td>21.01</td>\n",
       "      <td>3.50</td>\n",
       "      <td>Male</td>\n",
       "      <td>No</td>\n",
       "      <td>Sun</td>\n",
       "      <td>Dinner</td>\n",
       "      <td>3</td>\n",
       "    </tr>\n",
       "    <tr>\n",
       "      <th>3</th>\n",
       "      <td>23.68</td>\n",
       "      <td>3.31</td>\n",
       "      <td>Male</td>\n",
       "      <td>No</td>\n",
       "      <td>Sun</td>\n",
       "      <td>Dinner</td>\n",
       "      <td>2</td>\n",
       "    </tr>\n",
       "    <tr>\n",
       "      <th>4</th>\n",
       "      <td>24.59</td>\n",
       "      <td>3.61</td>\n",
       "      <td>Female</td>\n",
       "      <td>No</td>\n",
       "      <td>Sun</td>\n",
       "      <td>Dinner</td>\n",
       "      <td>4</td>\n",
       "    </tr>\n",
       "  </tbody>\n",
       "</table>\n",
       "</div>"
      ],
      "text/plain": [
       "   total_bill   tip     sex smoker  day    time  size\n",
       "0       16.99  1.01  Female     No  Sun  Dinner     2\n",
       "1       10.34  1.66    Male     No  Sun  Dinner     3\n",
       "2       21.01  3.50    Male     No  Sun  Dinner     3\n",
       "3       23.68  3.31    Male     No  Sun  Dinner     2\n",
       "4       24.59  3.61  Female     No  Sun  Dinner     4"
      ]
     },
     "execution_count": 51,
     "metadata": {},
     "output_type": "execute_result"
    }
   ],
   "source": [
    "dataset.head()"
   ]
  },
  {
   "cell_type": "code",
   "execution_count": 53,
   "id": "5b3ad4a8",
   "metadata": {},
   "outputs": [
    {
     "data": {
      "text/html": [
       "<div>\n",
       "<style scoped>\n",
       "    .dataframe tbody tr th:only-of-type {\n",
       "        vertical-align: middle;\n",
       "    }\n",
       "\n",
       "    .dataframe tbody tr th {\n",
       "        vertical-align: top;\n",
       "    }\n",
       "\n",
       "    .dataframe thead th {\n",
       "        text-align: right;\n",
       "    }\n",
       "</style>\n",
       "<table border=\"1\" class=\"dataframe\">\n",
       "  <thead>\n",
       "    <tr style=\"text-align: right;\">\n",
       "      <th>sex</th>\n",
       "      <th>Male</th>\n",
       "      <th>Female</th>\n",
       "    </tr>\n",
       "    <tr>\n",
       "      <th>smoker</th>\n",
       "      <th></th>\n",
       "      <th></th>\n",
       "    </tr>\n",
       "  </thead>\n",
       "  <tbody>\n",
       "    <tr>\n",
       "      <th>Yes</th>\n",
       "      <td>60</td>\n",
       "      <td>33</td>\n",
       "    </tr>\n",
       "    <tr>\n",
       "      <th>No</th>\n",
       "      <td>97</td>\n",
       "      <td>54</td>\n",
       "    </tr>\n",
       "  </tbody>\n",
       "</table>\n",
       "</div>"
      ],
      "text/plain": [
       "sex     Male  Female\n",
       "smoker              \n",
       "Yes       60      33\n",
       "No        97      54"
      ]
     },
     "execution_count": 53,
     "metadata": {},
     "output_type": "execute_result"
    }
   ],
   "source": [
    "dataset_table=pd.crosstab(dataset['smoker'],dataset['sex'])\n",
    "dataset_table"
   ]
  },
  {
   "cell_type": "code",
   "execution_count": 54,
   "id": "bab15f76",
   "metadata": {},
   "outputs": [
    {
     "name": "stdout",
     "output_type": "stream",
     "text": [
      "[[60 33]\n",
      " [97 54]]\n"
     ]
    }
   ],
   "source": [
    "#observed value\n",
    "obs_value=dataset_table.values\n",
    "print(obs_value)"
   ]
  },
  {
   "cell_type": "code",
   "execution_count": 56,
   "id": "e7fb7a4d",
   "metadata": {},
   "outputs": [
    {
     "data": {
      "text/plain": [
       "(0.0,\n",
       " 1.0,\n",
       " 1,\n",
       " array([[59.84016393, 33.15983607],\n",
       "        [97.15983607, 53.84016393]]))"
      ]
     },
     "execution_count": 56,
     "metadata": {},
     "output_type": "execute_result"
    }
   ],
   "source": [
    "val=stats.chi2_contingency(dataset_table)\n",
    "val"
   ]
  },
  {
   "cell_type": "code",
   "execution_count": 57,
   "id": "17b651a9",
   "metadata": {},
   "outputs": [],
   "source": [
    "#val 3 is the expected value"
   ]
  },
  {
   "cell_type": "code",
   "execution_count": 58,
   "id": "897bca6e",
   "metadata": {},
   "outputs": [],
   "source": [
    "expected_value=val[3]"
   ]
  },
  {
   "cell_type": "code",
   "execution_count": 59,
   "id": "3409c4fd",
   "metadata": {},
   "outputs": [
    {
     "name": "stdout",
     "output_type": "stream",
     "text": [
      "degree of freedom 1\n"
     ]
    }
   ],
   "source": [
    "no_of_rows=len(dataset_table.iloc[0:2,0])\n",
    "no_of_cols=len(dataset_table.iloc[0,0:2])\n",
    "dof=(no_of_rows-1)*(no_of_cols-1)\n",
    "print('degree of freedom',dof)\n",
    "alpha=0.05"
   ]
  },
  {
   "cell_type": "code",
   "execution_count": 61,
   "id": "32647a75",
   "metadata": {},
   "outputs": [
    {
     "data": {
      "text/plain": [
       "0.001934818536627623"
      ]
     },
     "execution_count": 61,
     "metadata": {},
     "output_type": "execute_result"
    }
   ],
   "source": [
    "from scipy.stats import chi2\n",
    "chi_square=sum([(o-e)**2./e for o,e in zip(obs_value,expected_value)])\n",
    "chi_square_statics=chi_square[0]+chi_square[1]\n",
    "chi_square_statics"
   ]
  },
  {
   "cell_type": "code",
   "execution_count": 64,
   "id": "0ebe0b23",
   "metadata": {},
   "outputs": [
    {
     "data": {
      "text/plain": [
       "0.964915107315732"
      ]
     },
     "execution_count": 64,
     "metadata": {},
     "output_type": "execute_result"
    }
   ],
   "source": [
    "#p_value\n",
    "p_value=1-chi2.cdf(chi_square_statics,df=dof)\n",
    "p_value\n",
    "#if p_value <= significant value reject null hypothesis i.e there is relation between two feature"
   ]
  },
  {
   "cell_type": "code",
   "execution_count": 65,
   "id": "a336809d",
   "metadata": {},
   "outputs": [
    {
     "data": {
      "text/plain": [
       "3.841458820694124"
      ]
     },
     "execution_count": 65,
     "metadata": {},
     "output_type": "execute_result"
    }
   ],
   "source": [
    "critical_value=chi2.ppf(q=1-alpha,df=dof)\n",
    "critical_value\n",
    "#if critical value <= chi_square_statics reject null hypothesis"
   ]
  },
  {
   "cell_type": "code",
   "execution_count": null,
   "id": "e30d1f2e",
   "metadata": {},
   "outputs": [],
   "source": []
  }
 ],
 "metadata": {
  "kernelspec": {
   "display_name": "Python 3",
   "language": "python",
   "name": "python3"
  },
  "language_info": {
   "codemirror_mode": {
    "name": "ipython",
    "version": 3
   },
   "file_extension": ".py",
   "mimetype": "text/x-python",
   "name": "python",
   "nbconvert_exporter": "python",
   "pygments_lexer": "ipython3",
   "version": "3.9.2"
  }
 },
 "nbformat": 4,
 "nbformat_minor": 5
}
